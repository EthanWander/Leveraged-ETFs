{
 "cells": [
  {
   "cell_type": "markdown",
   "id": "f48bfc1a",
   "metadata": {},
   "source": [
    "### Summary of Itô's Lemma\n",
    "\n",
    "Itô's Lemma is a fundamental result in stochastic calculus, used to find the differential of a function of a stochastic process. If $X_t$ is a stochastic process satisfying the stochastic differential equation:\n",
    "\n",
    "$$\n",
    "dX_t = \\mu(X_t, t) dt + \\sigma(X_t, t) dW_t,\n",
    "$$\n",
    "\n",
    "and $f(X_t, t)$ is a twice-differentiable function, then the differential of $f$ is given by:\n",
    "\n",
    "To derive Itô's Lemma, we start with the Taylor expansion of $f(X_t + dX_t, t + dt)$ around $(X_t, t)$:\n",
    "\n",
    "$$\n",
    "f(X_t + dX_t, t + dt) \\approx f(X_t, t) + \\frac{\\partial f}{\\partial t} dt + \\frac{\\partial f}{\\partial X} dX_t + \\frac{1}{2} \\frac{\\partial^2 f}{\\partial X^2} (dX_t)^2.\n",
    "$$\n",
    "\n",
    "For a stochastic process $X_t$ satisfying $dX_t = \\mu(X_t, t) dt + \\sigma(X_t, t) dW_t$, we substitute $dX_t$ and compute $(dX_t)^2$:\n",
    "\n",
    "$$\n",
    "(dX_t)^2 = (\\mu(X_t, t) dt + \\sigma(X_t, t) dW_t)^2 = (\\mu(X_t, t))^2 (dt)^2 + 2\\mu(X_t, t)\\sigma(X_t, t) dt \\cdot dW_t + (\\sigma(X_t, t))^2 (dW_t)^2.\n",
    "$$\n",
    "\n",
    "Using the properties of stochastic calculus:\n",
    "1. $(dt)^2 = 0$, $dW_t \\cdot dt = 0$, and $(dW_t)^2 = dt$,\n",
    "\n",
    "we simplify:\n",
    "\n",
    "$$\n",
    "f(X_t + dX_t, t + dt) \\approx f(X_t, t) + \\frac{\\partial f}{\\partial t} dt + \\frac{\\partial f}{\\partial X} (\\mu(X_t, t) dt + \\sigma(X_t, t) dW_t) + \\frac{1}{2} \\frac{\\partial^2 f}{\\partial X^2} (\\sigma(X_t, t))^2 dt.\n",
    "$$\n",
    "\n",
    "Rearranging terms, we get:\n",
    "\n",
    "$$\n",
    "df(X_t, t) = \\frac{\\partial f}{\\partial t} dt + \\frac{\\partial f}{\\partial X} \\left(\\mu(X_t, t) dt + \\sigma(X_t, t) dW_t\\right) + \\frac{1}{2} \\frac{\\partial^2 f}{\\partial X^2} (\\sigma(X_t, t))^2 dt.\n",
    "$$\n",
    "\n",
    "Simplifying:\n",
    "\n",
    "$$\n",
    "df(X_t, t) = \\left(\\frac{\\partial f}{\\partial t} + \\mu(X_t, t) \\frac{\\partial f}{\\partial X} + \\frac{1}{2} \\frac{\\partial^2 f}{\\partial X^2} (\\sigma(X_t, t))^2\\right) dt + \\sigma(X_t, t) \\frac{\\partial f}{\\partial X} dW_t.\n",
    "$$\n",
    "\n",
    "This result is widely used in financial mathematics, particularly in the derivation of option pricing models and the dynamics of stochastic processes. Itô's Lemma accounts for both the deterministic and stochastic components of the process. "
   ]
  }
 ],
 "metadata": {
  "language_info": {
   "name": "python"
  }
 },
 "nbformat": 4,
 "nbformat_minor": 5
}
