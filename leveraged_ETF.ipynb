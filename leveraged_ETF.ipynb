{
 "cells": [
  {
   "cell_type": "markdown",
   "id": "e9e3b295",
   "metadata": {},
   "source": [
    "To calculate the return of a leveraged ETF given a Geometric Brownian Motion (GBM), we start with the GBM dynamics:\n",
    "\n",
    "$$\n",
    "dS_t = \\mu S_t dt + \\sigma S_t dW_t\n",
    "$$\n",
    "\n",
    "where:\n",
    "- $S_t$ is the price of the underlying asset at time $t$,\n",
    "- $\\mu$ is the drift (expected return),\n",
    "- $\\sigma$ is the volatility,\n",
    "- $W_t$ is a standard Brownian motion.\n",
    "\n",
    "\n"
   ]
  },
  {
   "cell_type": "markdown",
   "id": "819f9201",
   "metadata": {},
   "source": [
    "We know from a previous calculation that:\n",
    "\n",
    "\n",
    "$$\n",
    "S_t = S_0 \\exp\\left(\\left(\\mu - \\frac{\\sigma^2}{2}\\right)t + \\sigma W_t\\right)\n",
    "$$"
   ]
  },
  {
   "cell_type": "markdown",
   "id": "7a5b0e36",
   "metadata": {},
   "source": [
    "For a leveraged ETF with leverage factor $\\beta$, the return is amplified by $\\beta$. The dynamics of the leveraged ETF can be expressed as:\n",
    "$$\n",
    "\\frac{dL_t}{L_t} = \\frac{dS_t}{S_t} = \\beta \\mu dt + \\beta \\sigma dW_t\n",
    "$$\n",
    "$$\n",
    "dL_t =  \\beta \\mu L_t dt + \\beta \\sigma L_t dW_t\n",
    "$$\n",
    "Which means it follows\n",
    "$$L_t = L_0 \\exp{\\left(\\left(\\beta\\mu - \\frac{(\\beta\\sigma)^2}{2}\\right)t+\\beta\\sigma W_t\\right)}$$"
   ]
  },
  {
   "cell_type": "markdown",
   "id": "f4506e50",
   "metadata": {},
   "source": [
    "Which gives us a median growth rate of $\\beta\\mu-\\frac{1}{2}\\beta^2\\sigma^2$ and a mean growth rate of $\\beta\\mu$."
   ]
  },
  {
   "cell_type": "markdown",
   "id": "71878e5d",
   "metadata": {},
   "source": [
    "### Maximal Leverage\n",
    "To maximize the median growth rate, we take its derivative with respect to $\\beta$ and set it to zero:\n",
    "\n",
    "$$\n",
    "\\frac{d}{d\\beta} \\left(\\beta \\mu - \\frac{1}{2} \\beta^2 \\sigma^2\\right) = \\mu - \\beta \\sigma^2 = 0\n",
    "$$\n",
    "\n",
    "Solving for $\\beta$, we find:\n",
    "\n",
    "$$\n",
    "\\beta_{\\text{max}} = \\frac{\\mu}{\\sigma^2}\n",
    "$$\n",
    "\n",
    "To confirm that this is indeed a maximum, we check the second derivative:\n",
    "\n",
    "$$\n",
    "\\frac{d^2}{d\\beta^2} \\left(\\beta \\mu - \\frac{1}{2} \\beta^2 \\sigma^2\\right) = -\\sigma^2\n",
    "$$\n",
    "\n",
    "Since the second derivative is negative, the critical point corresponds to a maximum. Therefore, the leverage that maximizes the return is:\n",
    "\n",
    "$$\n",
    "\\beta_{\\text{max}} = \\frac{\\mu}{\\sigma^2}\n",
    "$$\n"
   ]
  },
  {
   "cell_type": "markdown",
   "id": "956b1d37",
   "metadata": {},
   "source": [
    "### Calculating $\\beta_{\\text{max}}$ for SPY and QQQ\n",
    "\n",
    "Using the formula for $\\beta_{\\text{max}}$:\n",
    "\n",
    "$$\n",
    "\\beta_{\\text{max}} = \\frac{\\mu}{\\sigma^2}\n",
    "$$\n",
    "\n",
    "#### For SPY:\n",
    "- $\\mu \\approx 0.146$\n",
    "- $\\sigma \\approx 0.15$\n",
    "\n",
    "Substitute these values:\n",
    "\n",
    "$$\n",
    "\\beta_{\\text{max}} = \\frac{0.146}{0.15^2} = \\frac{0.146}{0.0225} \\approx 6.49\n",
    "$$\n",
    "\n",
    "#### For QQQ:\n",
    "- $\\mu \\approx 0.196$\n",
    "- $\\sigma \\approx 0.23$\n",
    "\n",
    "Substitute these values:\n",
    "\n",
    "$$\n",
    "\\beta_{\\text{max}} = \\frac{0.196}{0.23^2} = \\frac{0.196}{0.0529} \\approx 3.70\n",
    "$$\n",
    "\n",
    "### Results:\n",
    "- $\\beta_{\\text{max}}$ for SPY: **6.49**\n",
    "- $\\beta_{\\text{max}}$ for QQQ: **3.70**"
   ]
  }
 ],
 "metadata": {
  "kernelspec": {
   "display_name": "Python 3",
   "language": "python",
   "name": "python3"
  },
  "language_info": {
   "name": "python",
   "version": "3.13.2"
  }
 },
 "nbformat": 4,
 "nbformat_minor": 5
}
